{
 "cells": [
  {
   "cell_type": "code",
   "execution_count": 3,
   "metadata": {},
   "outputs": [],
   "source": [
    "import utility as ut\n",
    "import numpy as np # type: ignore\n",
    "import matplotlib.pyplot as plt # type: ignore"
   ]
  },
  {
   "cell_type": "code",
   "execution_count": 4,
   "metadata": {},
   "outputs": [],
   "source": [
    "def load_matrices(filename=\"matrices.npz\"):\n",
    "    \"\"\"\n",
    "    Loads P and Phi matrices from a .npz file.\n",
    "\n",
    "    Parameters:\n",
    "    - filename: The filename to load (default: \"matrices.npz\").\n",
    "\n",
    "    Returns:\n",
    "    - P: Loaded storage function matrix.\n",
    "    - Phi: Loaded supply rate function matrix.\n",
    "    \"\"\"\n",
    "    data = np.load(filename)\n",
    "    P = data[\"P\"]\n",
    "    Phi = data[\"Phi\"]\n",
    "    print(f\"Loaded matrices from {filename}\")\n",
    "    return P, Phi"
   ]
  },
  {
   "cell_type": "code",
   "execution_count": 5,
   "metadata": {},
   "outputs": [
    {
     "name": "stdout",
     "output_type": "stream",
     "text": [
      "Loaded matrices from matrices.npz\n"
     ]
    }
   ],
   "source": [
    "P, Phi = load_matrices(filename=\"matrices.npz\")"
   ]
  },
  {
   "cell_type": "code",
   "execution_count": 14,
   "metadata": {},
   "outputs": [
    {
     "name": "stdout",
     "output_type": "stream",
     "text": [
      "Matrix P is positive definite: True\n",
      "Matrix Phi is positive definite: False\n"
     ]
    }
   ],
   "source": [
    "# Check if matrix P is positive definite\n",
    "def check_positive_definite(P):\n",
    "    \"\"\"\n",
    "    Checks if a matrix is positive definite.\n",
    "\n",
    "    Parameters:\n",
    "    - P: The matrix to check.\n",
    "\n",
    "    Returns:\n",
    "    - True if the matrix is positive definite, False otherwise.\n",
    "    \"\"\"\n",
    "    return np.all(np.linalg.eigvals(P) > 0)\n",
    "\n",
    "print(f\"Matrix P is positive definite: {check_positive_definite(P)}\")\n",
    "print(f\"Matrix Phi is positive definite: {check_positive_definite(Phi)}\")"
   ]
  },
  {
   "cell_type": "code",
   "execution_count": 7,
   "metadata": {},
   "outputs": [
    {
     "name": "stdout",
     "output_type": "stream",
     "text": [
      "(10, 10)\n",
      "(10, 10)\n"
     ]
    }
   ],
   "source": [
    "print(P.shape)\n",
    "print(Phi.shape)"
   ]
  },
  {
   "cell_type": "code",
   "execution_count": 8,
   "metadata": {},
   "outputs": [],
   "source": [
    "# Load data\n",
    "DIRECTORY = \"data/\"\n",
    "datasets = ut.load_excel_data(DIRECTORY)"
   ]
  },
  {
   "cell_type": "code",
   "execution_count": 9,
   "metadata": {},
   "outputs": [],
   "source": [
    "DURATION = 15  # duration in seconds\n",
    "DT = 0.02  # time increment in seconds\n",
    "# Create a time array\n",
    "time_array = np.arange(0, DURATION + DT, DT)\n",
    "NUM_STEPS = len(time_array)"
   ]
  },
  {
   "cell_type": "code",
   "execution_count": 10,
   "metadata": {},
   "outputs": [
    {
     "name": "stdout",
     "output_type": "stream",
     "text": [
      "39\n"
     ]
    }
   ],
   "source": [
    "interpolated_datasets = []\n",
    "for i in range(len(datasets)):\n",
    "    new_trolley_position = np.interp(\n",
    "        time_array, datasets[i][\"timestamp\"], datasets[i][\"trolley_position\"]\n",
    "    )\n",
    "    new_cable_length = np.interp(\n",
    "        time_array, datasets[i][\"timestamp\"], datasets[i][\"cable_length\"]\n",
    "    )\n",
    "    new_sway_angle = np.interp(\n",
    "        time_array, datasets[i][\"timestamp\"], datasets[i][\"sway_angle\"]\n",
    "    )\n",
    "    new_trolley_motor_pwm = np.interp(\n",
    "        time_array, datasets[i][\"timestamp\"], datasets[i][\"pwm_trolley_motor\"]\n",
    "    )\n",
    "    new_hoist_motor_pwm = np.interp(\n",
    "        time_array, datasets[i][\"timestamp\"], datasets[i][\"pwm_hoist_motor\"]\n",
    "    )\n",
    "    interpolated_df = {\n",
    "        \"trolley_position\": new_trolley_position,\n",
    "        \"cable_length\": new_cable_length,\n",
    "        \"sway_angle\": new_sway_angle,\n",
    "        \"trolley_motor_pwm\": new_trolley_motor_pwm,\n",
    "        \"hoist_motor_pwm\": new_hoist_motor_pwm,\n",
    "    }\n",
    "\n",
    "    interpolated_datasets.append(interpolated_df)\n",
    "\n",
    "print(len(interpolated_datasets))\n"
   ]
  },
  {
   "cell_type": "code",
   "execution_count": 11,
   "metadata": {},
   "outputs": [],
   "source": [
    "def dissipativity_inequality(P, Phi, xi0, xi1, Z):\n",
    "    \"\"\"\n",
    "    Computes the dissipativity inequality for fault detection.\n",
    "\n",
    "    Parameters:\n",
    "    - P: Storage function matrix.\n",
    "    - Phi: Supply rate function matrix.\n",
    "    - xi0: Column vector for xi(k).\n",
    "    - xi1: Column vector for xi(k+1).\n",
    "    - Z: Column vector for Z(k).\n",
    "\n",
    "    Returns:\n",
    "    - True if the dissipativity inequality is satisfied, False otherwise.\n",
    "    \"\"\"\n",
    "    # Compute the left-hand side of the inequality\n",
    "    lhs = xi1.T @ P @ xi1 - xi0.T @ P @ xi0\n",
    "\n",
    "    # Compute the right-hand side of the inequality\n",
    "    rhs = Z.T @ Z\n",
    "\n",
    "    # Check if the inequality is satisfied\n",
    "    return lhs - rhs"
   ]
  },
  {
   "cell_type": "code",
   "execution_count": 12,
   "metadata": {},
   "outputs": [],
   "source": [
    "L = 5  # Number of past steps to include\n",
    "N = 5  # Number of future steps to predict\n",
    "T = NUM_STEPS # Number of time steps\n",
    "num_inputs = 2  # Number of inputs\n",
    "num_outputs = 3  # Number of outputs\n",
    "\n",
    "TF = 10 # window of samples observed for detecting faults"
   ]
  },
  {
   "cell_type": "code",
   "execution_count": 13,
   "metadata": {},
   "outputs": [
    {
     "ename": "ValueError",
     "evalue": "matmul: Input operand 1 has a mismatch in its core dimension 0, with gufunc signature (n?,k),(k,m?)->(n?,m?) (size 10 is different from 25)",
     "output_type": "error",
     "traceback": [
      "\u001b[0;31m---------------------------------------------------------------------------\u001b[0m",
      "\u001b[0;31mValueError\u001b[0m                                Traceback (most recent call last)",
      "Cell \u001b[0;32mIn[13], line 23\u001b[0m\n\u001b[1;32m     20\u001b[0m zeta_list\u001b[38;5;241m.\u001b[39mappend(zeta)\n\u001b[1;32m     22\u001b[0m \u001b[38;5;28;01mif\u001b[39;00m k \u001b[38;5;241m>\u001b[39m L:\n\u001b[0;32m---> 23\u001b[0m     Y \u001b[38;5;241m=\u001b[39m \u001b[43mdissipativity_inequality\u001b[49m\u001b[43m(\u001b[49m\u001b[43mP\u001b[49m\u001b[43m,\u001b[49m\u001b[43m \u001b[49m\u001b[43mPhi\u001b[49m\u001b[43m,\u001b[49m\u001b[43m \u001b[49m\u001b[43mxi_list\u001b[49m\u001b[43m[\u001b[49m\u001b[43mk\u001b[49m\u001b[38;5;241;43m-\u001b[39;49m\u001b[43mL\u001b[49m\u001b[43m]\u001b[49m\u001b[43m,\u001b[49m\u001b[43m \u001b[49m\u001b[43mxi_list\u001b[49m\u001b[43m[\u001b[49m\u001b[43mk\u001b[49m\u001b[38;5;241;43m-\u001b[39;49m\u001b[43mL\u001b[49m\u001b[38;5;241;43m+\u001b[39;49m\u001b[38;5;241;43m1\u001b[39;49m\u001b[43m]\u001b[49m\u001b[43m,\u001b[49m\u001b[43m \u001b[49m\u001b[43mzeta_list\u001b[49m\u001b[43m[\u001b[49m\u001b[43mk\u001b[49m\u001b[38;5;241;43m-\u001b[39;49m\u001b[43mL\u001b[49m\u001b[43m]\u001b[49m\u001b[43m)\u001b[49m\n\u001b[1;32m     24\u001b[0m     Y_array\u001b[38;5;241m.\u001b[39mappend(Y)\n\u001b[1;32m     25\u001b[0m     Y_square_array\u001b[38;5;241m.\u001b[39mappend(Y_array[k\u001b[38;5;241m-\u001b[39mL\u001b[38;5;241m-\u001b[39m\u001b[38;5;241m1\u001b[39m]\u001b[38;5;241m*\u001b[39m\u001b[38;5;241m*\u001b[39m\u001b[38;5;241m2\u001b[39m)\n",
      "Cell \u001b[0;32mIn[11], line 16\u001b[0m, in \u001b[0;36mdissipativity_inequality\u001b[0;34m(P, Phi, xi0, xi1, Z)\u001b[0m\n\u001b[1;32m      2\u001b[0m \u001b[38;5;124;03m\"\"\"\u001b[39;00m\n\u001b[1;32m      3\u001b[0m \u001b[38;5;124;03mComputes the dissipativity inequality for fault detection.\u001b[39;00m\n\u001b[1;32m      4\u001b[0m \n\u001b[0;32m   (...)\u001b[0m\n\u001b[1;32m     13\u001b[0m \u001b[38;5;124;03m- True if the dissipativity inequality is satisfied, False otherwise.\u001b[39;00m\n\u001b[1;32m     14\u001b[0m \u001b[38;5;124;03m\"\"\"\u001b[39;00m\n\u001b[1;32m     15\u001b[0m \u001b[38;5;66;03m# Compute the left-hand side of the inequality\u001b[39;00m\n\u001b[0;32m---> 16\u001b[0m lhs \u001b[38;5;241m=\u001b[39m \u001b[43mxi1\u001b[49m\u001b[38;5;241;43m.\u001b[39;49m\u001b[43mT\u001b[49m\u001b[43m \u001b[49m\u001b[38;5;241;43m@\u001b[39;49m\u001b[43m \u001b[49m\u001b[43mP\u001b[49m \u001b[38;5;241m@\u001b[39m xi1 \u001b[38;5;241m-\u001b[39m xi0\u001b[38;5;241m.\u001b[39mT \u001b[38;5;241m@\u001b[39m P \u001b[38;5;241m@\u001b[39m xi0\n\u001b[1;32m     18\u001b[0m \u001b[38;5;66;03m# Compute the right-hand side of the inequality\u001b[39;00m\n\u001b[1;32m     19\u001b[0m rhs \u001b[38;5;241m=\u001b[39m Z\u001b[38;5;241m.\u001b[39mT \u001b[38;5;241m@\u001b[39m Z\n",
      "\u001b[0;31mValueError\u001b[0m: matmul: Input operand 1 has a mismatch in its core dimension 0, with gufunc signature (n?,k),(k,m?)->(n?,m?) (size 10 is different from 25)"
     ]
    }
   ],
   "source": [
    "xi_list = []\n",
    "zeta_list = []\n",
    "Y_array = []\n",
    "J_array = []\n",
    "Y_square_array = []\n",
    "\n",
    "for data in interpolated_datasets:\n",
    "    for k in range (L, T - N):\n",
    "        k -= 1\n",
    "        past_outputs = np.column_stack([data[\"trolley_position\"][k-L:k], data[\"cable_length\"][k-L:k], data[\"sway_angle\"][k-L:k]])\n",
    "        past_inputs = np.column_stack([data[\"trolley_motor_pwm\"][k-L:k], data[\"hoist_motor_pwm\"][k-L:k]])\n",
    "\n",
    "        xi = np.column_stack([past_outputs, past_inputs]).reshape(-1, 1)\n",
    "        xi_list.append(xi)\n",
    "\n",
    "        future_outputs = np.column_stack([data[\"trolley_position\"][k:k+N], data[\"cable_length\"][k:k+N], data[\"sway_angle\"][k:k+N]])\n",
    "        future_inputs = np.column_stack([data[\"trolley_motor_pwm\"][k:k+N], data[\"hoist_motor_pwm\"][k:k+N]])\n",
    "\n",
    "        zeta = np.column_stack([future_outputs, future_inputs]).reshape(-1, 1)\n",
    "        zeta_list.append(zeta)\n",
    "\n",
    "        if k > L:\n",
    "            Y = dissipativity_inequality(P, Phi, xi_list[k-L], xi_list[k-L+1], zeta_list[k-L])\n",
    "            Y_array.append(Y)\n",
    "            Y_square_array.append(Y_array[k-L-1]**2)\n",
    "\n",
    "            if len(Y_square_array) > TF:\n",
    "                J_array.append(np.sqrt(np.sum(Y_square_array[k-TF-L:k-L])))\n"
   ]
  },
  {
   "cell_type": "code",
   "execution_count": null,
   "metadata": {},
   "outputs": [],
   "source": [
    "# Calculate the mean of the fault detection metric\n",
    "J_mean = np.mean(J_array)\n",
    "print(f\"Mean of the fault detection metric: {J_mean}\")\n",
    "\n",
    "# Calculate the standard deviation of the fault detection metric\n",
    "J_std = np.std(J_array)\n",
    "print(f\"Standard deviation of the fault detection metric: {J_std}\")\n",
    "\n",
    "# Determine the threshold for fault detection\n",
    "threshold = J_mean + 3 * J_std\n",
    "print(f\"Threshold for fault detection: {threshold}\")"
   ]
  },
  {
   "cell_type": "code",
   "execution_count": null,
   "metadata": {},
   "outputs": [],
   "source": [
    "plt.plot(np.linspace(0, 10, len(Y_array)), np.array(Y_array).flatten())"
   ]
  },
  {
   "cell_type": "code",
   "execution_count": null,
   "metadata": {},
   "outputs": [],
   "source": [
    "print(Y_array)"
   ]
  },
  {
   "cell_type": "code",
   "execution_count": null,
   "metadata": {},
   "outputs": [],
   "source": [
    "plt.plot(np.linspace(0, 10, len(Y_square_array)), np.array(Y_square_array).flatten())"
   ]
  },
  {
   "cell_type": "code",
   "execution_count": null,
   "metadata": {},
   "outputs": [],
   "source": [
    "plt.plot(np.linspace(0, 10, len(J_array)), np.array(J_array).flatten())\n",
    "plt.plot(np.linspace(0, 10, len(J_array)), np.linspace(threshold, threshold, len(J_array)))\n",
    "plt.plot(np.linspace(0, 10, len(J_array)), np.linspace(J_mean, J_mean, len(J_array)))"
   ]
  }
 ],
 "metadata": {
  "kernelspec": {
   "display_name": "usr",
   "language": "python",
   "name": "python3"
  },
  "language_info": {
   "codemirror_mode": {
    "name": "ipython",
    "version": 3
   },
   "file_extension": ".py",
   "mimetype": "text/x-python",
   "name": "python",
   "nbconvert_exporter": "python",
   "pygments_lexer": "ipython3",
   "version": "3.10.12"
  }
 },
 "nbformat": 4,
 "nbformat_minor": 2
}
