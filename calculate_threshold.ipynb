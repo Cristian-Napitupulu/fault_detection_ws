{
 "cells": [
  {
   "cell_type": "code",
   "execution_count": null,
   "metadata": {},
   "outputs": [],
   "source": [
    "import utility as ut\n",
    "import numpy as np\n",
    "import matplotlib.pyplot as plt"
   ]
  },
  {
   "cell_type": "code",
   "execution_count": null,
   "metadata": {},
   "outputs": [],
   "source": [
    "def load_matrices(filename=\"matrices.npz\"):\n",
    "    \"\"\"\n",
    "    Loads P and Phi matrices from a .npz file.\n",
    "\n",
    "    Parameters:\n",
    "    - filename: The filename to load (default: \"matrices.npz\").\n",
    "\n",
    "    Returns:\n",
    "    - P: Loaded storage function matrix.\n",
    "    - Phi: Loaded supply rate function matrix.\n",
    "    \"\"\"\n",
    "    data = np.load(filename)\n",
    "    P = data[\"P\"]\n",
    "    Phi = data[\"Phi\"]\n",
    "    print(f\"Loaded matrices from {filename}\")\n",
    "    return P, Phi"
   ]
  },
  {
   "cell_type": "code",
   "execution_count": null,
   "metadata": {},
   "outputs": [],
   "source": [
    "P, Phi = load_matrices(filename=\"matrices.npz\")"
   ]
  },
  {
   "cell_type": "code",
   "execution_count": null,
   "metadata": {},
   "outputs": [],
   "source": [
    "# Load data\n",
    "DIRECTORY = \"data/\"\n",
    "datasets = ut.load_excel_data(DIRECTORY)"
   ]
  },
  {
   "cell_type": "code",
   "execution_count": null,
   "metadata": {},
   "outputs": [],
   "source": [
    "DURATION = 15  # duration in seconds\n",
    "DT = 0.02  # time increment in seconds\n",
    "# Create a time array\n",
    "time_array = np.arange(0, DURATION + DT, DT)\n",
    "NUM_STEPS = len(time_array)"
   ]
  },
  {
   "cell_type": "code",
   "execution_count": null,
   "metadata": {},
   "outputs": [],
   "source": [
    "interpolated_datasets = []\n",
    "for i in range(len(datasets)):\n",
    "    new_trolley_position = np.interp(\n",
    "        time_array, datasets[i][\"timestamp\"], datasets[i][\"trolley_position\"]\n",
    "    )\n",
    "    new_cable_length = np.interp(\n",
    "        time_array, datasets[i][\"timestamp\"], datasets[i][\"cable_length\"]\n",
    "    )\n",
    "    new_sway_angle = np.interp(\n",
    "        time_array, datasets[i][\"timestamp\"], datasets[i][\"sway_angle\"]\n",
    "    )\n",
    "    new_trolley_motor_pwm = np.interp(\n",
    "        time_array, datasets[i][\"timestamp\"], datasets[i][\"pwm_trolley_motor\"]\n",
    "    )\n",
    "    new_hoist_motor_pwm = np.interp(\n",
    "        time_array, datasets[i][\"timestamp\"], datasets[i][\"pwm_hoist_motor\"]\n",
    "    )\n",
    "    interpolated_df = {\n",
    "        \"trolley_position\": new_trolley_position,\n",
    "        \"cable_length\": new_cable_length,\n",
    "        \"sway_angle\": new_sway_angle,\n",
    "        \"trolley_motor_pwm\": new_trolley_motor_pwm,\n",
    "        \"hoist_motor_pwm\": new_hoist_motor_pwm,\n",
    "    }\n",
    "\n",
    "    interpolated_datasets.append(interpolated_df)\n",
    "\n",
    "print(len(interpolated_datasets))\n"
   ]
  },
  {
   "cell_type": "code",
   "execution_count": null,
   "metadata": {},
   "outputs": [],
   "source": [
    "def dissipativity_inequality(P, Phi, xi0, xi1, Z):\n",
    "    \"\"\"\n",
    "    Computes the dissipativity inequality for fault detection.\n",
    "\n",
    "    Parameters:\n",
    "    - P: Storage function matrix.\n",
    "    - Phi: Supply rate function matrix.\n",
    "    - xi0: Column vector for xi(k).\n",
    "    - xi1: Column vector for xi(k+1).\n",
    "    - Z: Column vector for Z(k).\n",
    "\n",
    "    Returns:\n",
    "    - True if the dissipativity inequality is satisfied, False otherwise.\n",
    "    \"\"\"\n",
    "    # Compute the left-hand side of the inequality\n",
    "    lhs = xi1.T @ P @ xi1 - xi0.T @ P @ xi0\n",
    "\n",
    "    # Compute the right-hand side of the inequality\n",
    "    rhs = xi1.T @ Phi @ xi1 + Z.T @ Z\n",
    "\n",
    "    # Check if the inequality is satisfied\n",
    "    return lhs - rhs"
   ]
  },
  {
   "cell_type": "code",
   "execution_count": null,
   "metadata": {},
   "outputs": [],
   "source": [
    "L = 10  # Number of past steps to include\n",
    "N = 10  # Number of future steps to predict\n",
    "T = NUM_STEPS # Number of time steps\n",
    "num_inputs = 2  # Number of inputs\n",
    "num_outputs = 3  # Number of outputs\n",
    "\n",
    "TF = 10 # window of samples observed for detecting faults"
   ]
  },
  {
   "cell_type": "code",
   "execution_count": null,
   "metadata": {},
   "outputs": [],
   "source": [
    "xi_list = []\n",
    "zeta_list = []\n",
    "Y_array = []\n",
    "J_array = []\n",
    "\n",
    "for data in interpolated_datasets:\n",
    "    for k in range (L, T - N):\n",
    "        past_outputs = np.column_stack([data[\"trolley_position\"][k-L:k], data[\"cable_length\"][k-L:k], data[\"sway_angle\"][k-L:k]])\n",
    "        past_inputs = np.column_stack([data[\"trolley_motor_pwm\"][k-L:k], data[\"hoist_motor_pwm\"][k-L:k]])\n",
    "\n",
    "        xi = np.column_stack([past_outputs, past_inputs]).reshape(-1, 1)\n",
    "        xi_list.append(xi)\n",
    "\n",
    "        future_outputs = np.column_stack([data[\"trolley_position\"][k:k+N], data[\"cable_length\"][k:k+N], data[\"sway_angle\"][k:k+N]])\n",
    "        future_inputs = np.column_stack([data[\"trolley_motor_pwm\"][k:k+N], data[\"hoist_motor_pwm\"][k:k+N]])\n",
    "\n",
    "        zeta = np.column_stack([future_outputs, future_inputs]).reshape(-1, 1)\n",
    "        zeta_list.append(zeta)\n",
    "\n",
    "        if k > L:\n",
    "            Y_array.append(dissipativity_inequality(P, Phi, xi_list[k-1], xi_list[k], zeta_list[k]))\n",
    "            if len(Y_array) > TF:\n",
    "                J_array.append(np.sqrt(np.sum((Y_array[-TF:])**2)))\n"
   ]
  },
  {
   "cell_type": "code",
   "execution_count": null,
   "metadata": {},
   "outputs": [],
   "source": [
    "# Calculate the mean of the fault detection metric\n",
    "J_mean = np.mean(J_array)\n",
    "print(f\"Mean of the fault detection metric: {J_mean}\")\n",
    "\n",
    "# Calculate the standard deviation of the fault detection metric\n",
    "J_std = np.std(J_array)\n",
    "print(f\"Standard deviation of the fault detection metric: {J_std}\")\n",
    "\n",
    "# Determine the threshold for fault detection\n",
    "threshold = J_mean + 3 * J_std\n",
    "print(f\"Threshold for fault detection: {threshold}\")"
   ]
  }
 ],
 "metadata": {
  "kernelspec": {
   "display_name": ".venv",
   "language": "python",
   "name": "python3"
  },
  "language_info": {
   "codemirror_mode": {
    "name": "ipython",
    "version": 3
   },
   "file_extension": ".py",
   "mimetype": "text/x-python",
   "name": "python",
   "nbconvert_exporter": "python",
   "pygments_lexer": "ipython3",
   "version": "3.11.9"
  }
 },
 "nbformat": 4,
 "nbformat_minor": 2
}
