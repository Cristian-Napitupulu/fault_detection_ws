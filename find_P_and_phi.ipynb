{
 "cells": [
  {
   "cell_type": "markdown",
   "metadata": {},
   "source": [
    "## Buka data"
   ]
  },
  {
   "cell_type": "code",
   "execution_count": 1,
   "metadata": {},
   "outputs": [],
   "source": [
    "import utility as ut\n",
    "import numpy as np\n",
    "import cvxpy as cp\n",
    "import matplotlib.pyplot as plt"
   ]
  },
  {
   "cell_type": "code",
   "execution_count": 2,
   "metadata": {},
   "outputs": [],
   "source": [
    "# Load data\n",
    "DIRECTORY = \"data/\"\n",
    "datasets = ut.load_excel_data(DIRECTORY)"
   ]
  },
  {
   "cell_type": "code",
   "execution_count": 3,
   "metadata": {},
   "outputs": [
    {
     "name": "stdout",
     "output_type": "stream",
     "text": [
      "751\n"
     ]
    }
   ],
   "source": [
    "DURATION = 15  # duration in seconds\n",
    "DT = 0.02  # time increment in seconds\n",
    "# Create a time array\n",
    "time_array = np.arange(0, DURATION + DT, DT)\n",
    "NUM_STEPS = len(time_array)\n",
    "print(NUM_STEPS)"
   ]
  },
  {
   "cell_type": "code",
   "execution_count": 4,
   "metadata": {},
   "outputs": [
    {
     "name": "stdout",
     "output_type": "stream",
     "text": [
      "39\n"
     ]
    }
   ],
   "source": [
    "interpolated_datasets = []\n",
    "for i in range(len(datasets)):\n",
    "    new_trolley_position = np.interp(\n",
    "        time_array, datasets[i][\"timestamp\"], datasets[i][\"trolley_position\"]\n",
    "    )\n",
    "    new_cable_length = np.interp(\n",
    "        time_array, datasets[i][\"timestamp\"], datasets[i][\"cable_length\"]\n",
    "    )\n",
    "    new_sway_angle = np.interp(\n",
    "        time_array, datasets[i][\"timestamp\"], datasets[i][\"sway_angle\"]\n",
    "    )\n",
    "    new_trolley_motor_pwm = np.interp(\n",
    "        time_array, datasets[i][\"timestamp\"], datasets[i][\"pwm_trolley_motor\"]\n",
    "    )\n",
    "    new_hoist_motor_pwm = np.interp(\n",
    "        time_array, datasets[i][\"timestamp\"], datasets[i][\"pwm_hoist_motor\"]\n",
    "    )\n",
    "    interpolated_df = {\n",
    "        \"trolley_position\": new_trolley_position,\n",
    "        \"cable_length\": new_cable_length,\n",
    "        \"sway_angle\": new_sway_angle,\n",
    "        \"trolley_motor_pwm\": new_trolley_motor_pwm,\n",
    "        \"hoist_motor_pwm\": new_hoist_motor_pwm,\n",
    "    }\n",
    "\n",
    "    interpolated_datasets.append(interpolated_df)\n",
    "\n",
    "print(len(interpolated_datasets))\n"
   ]
  },
  {
   "cell_type": "code",
   "execution_count": 5,
   "metadata": {},
   "outputs": [],
   "source": [
    "def create_hankel_matrix(data_dict, L):\n",
    "    \"\"\"\n",
    "    Create a Hankel matrix from time-series data.\n",
    "\n",
    "    Parameters:\n",
    "    - data_dict: Dictionary with keys as variable names (inputs/outputs) and values as lists/arrays of time-series data.\n",
    "    - L: Lag parameter (number of past steps to include).\n",
    "    \n",
    "    Returns:\n",
    "    - H: The constructed Hankel matrix.\n",
    "    \"\"\"\n",
    "    # Convert dictionary values to a single stacked array (row-wise)\n",
    "    data_matrix = np.vstack([np.array(data_dict[key]) for key in data_dict])\n",
    "    \n",
    "    # Get the total number of time steps (T)\n",
    "    T = data_matrix.shape[1]\n",
    "    \n",
    "    # Compute number of columns for Hankel matrix\n",
    "    num_cols = T - L + 1\n",
    "    if num_cols <= 0:\n",
    "        raise ValueError(\"Not enough data points for the given L value!\")\n",
    "\n",
    "    # Construct Hankel matrix\n",
    "    hankel_rows = []\n",
    "    for i in range(L):\n",
    "        hankel_rows.append(data_matrix[:, i:i+num_cols])  # Take L past steps\n",
    "\n",
    "    H = np.vstack(hankel_rows)  # Stack vertically\n",
    "    return H"
   ]
  },
  {
   "cell_type": "code",
   "execution_count": 6,
   "metadata": {},
   "outputs": [],
   "source": [
    "L = 10  # Number of past steps to include\n",
    "N = 10  # Number of future steps to predict\n",
    "T = NUM_STEPS # Number of time steps"
   ]
  },
  {
   "cell_type": "code",
   "execution_count": 7,
   "metadata": {},
   "outputs": [
    {
     "name": "stdout",
     "output_type": "stream",
     "text": [
      "H_mosaic shape: (50, 28938)\n"
     ]
    }
   ],
   "source": [
    "H_y_mosaic = []\n",
    "H_u_mosaic = []\n",
    "\n",
    "for data in interpolated_datasets:\n",
    "    dict_y = {\"x\": data[\"trolley_position\"], \"l\": data[\"cable_length\"], \"theta\": data[\"sway_angle\"]}\n",
    "    dict_u = {\"u1\": data[\"trolley_motor_pwm\"], \"u2\": data[\"hoist_motor_pwm\"]}\n",
    "    H_y = create_hankel_matrix(dict_y, L)\n",
    "    H_u = create_hankel_matrix(dict_u, L)\n",
    "    H_y_mosaic.append(H_y)\n",
    "    H_u_mosaic.append(H_u)\n",
    "\n",
    "H_y_mosaic = np.hstack(H_y_mosaic)\n",
    "H_u_mosaic = np.hstack(H_u_mosaic)\n",
    "\n",
    "H_mosaic = np.vstack([H_y_mosaic, H_u_mosaic])\n",
    "\n",
    "print(\"H_mosaic shape:\", H_mosaic.shape)"
   ]
  },
  {
   "cell_type": "code",
   "execution_count": 8,
   "metadata": {},
   "outputs": [],
   "source": [
    "xi_list = []\n",
    "zeta_list = []\n",
    "\n",
    "for data in interpolated_datasets:\n",
    "    for k in range (L, T - N):\n",
    "        past_outputs = np.column_stack([data[\"trolley_position\"][k-L:k], data[\"cable_length\"][k-L:k], data[\"sway_angle\"][k-L:k]])\n",
    "        past_inputs = np.column_stack([data[\"trolley_motor_pwm\"][k-L:k], data[\"hoist_motor_pwm\"][k-L:k]])\n",
    "\n",
    "        xi = np.column_stack([past_outputs, past_inputs]).reshape(-1, 1)\n",
    "        xi_list.append(xi)\n",
    "\n",
    "        future_outputs = np.column_stack([data[\"trolley_position\"][k:k+N], data[\"cable_length\"][k:k+N], data[\"sway_angle\"][k:k+N]])\n",
    "        future_inputs = np.column_stack([data[\"trolley_motor_pwm\"][k:k+N], data[\"hoist_motor_pwm\"][k:k+N]])\n",
    "\n",
    "        zeta = np.column_stack([future_outputs, future_inputs]).reshape(-1, 1)\n",
    "        zeta_list.append(zeta)\n",
    "\n"
   ]
  },
  {
   "cell_type": "code",
   "execution_count": 9,
   "metadata": {},
   "outputs": [
    {
     "name": "stdout",
     "output_type": "stream",
     "text": [
      "Z_matrix shape: (50, 28509)\n",
      "xi_list shape: (28509, 50, 1)\n",
      "zeta_list shape: (28509, 50, 1)\n"
     ]
    }
   ],
   "source": [
    "Z_matrix = np.hstack(zeta_list)\n",
    "print(\"Z_matrix shape:\", Z_matrix.shape)\n",
    "\n",
    "print(\"xi_list shape:\", np.array(xi_list).shape)\n",
    "print(\"zeta_list shape:\", np.array(zeta_list).shape)"
   ]
  },
  {
   "cell_type": "code",
   "execution_count": 10,
   "metadata": {},
   "outputs": [],
   "source": [
    "def save_matrices(P, Phi, filename=\"matrices.npz\"):\n",
    "    \"\"\"\n",
    "    Saves P and Phi matrices to a compressed .npz file.\n",
    "\n",
    "    Parameters:\n",
    "    - P: Storage function matrix.\n",
    "    - Phi: Supply rate function matrix.\n",
    "    - filename: The filename to save (default: \"matrices.npz\").\n",
    "    \"\"\"\n",
    "    np.savez_compressed(filename, P=P, Phi=Phi)\n",
    "    print(f\"Saved matrices to {filename}\")\n"
   ]
  },
  {
   "cell_type": "code",
   "execution_count": 11,
   "metadata": {},
   "outputs": [],
   "source": [
    "def find_P_and_Phi(H, Z):\n",
    "    \"\"\"\n",
    "    Solves the LMI to find P and Phi.\n",
    "\n",
    "    Parameters:\n",
    "    - H: Hankel matrix (from create_hankel_matrix).\n",
    "    - Z: Z matrix (from create_Z_vector).\n",
    "    - n_states: Number of states in the extended system.\n",
    "\n",
    "    Returns:\n",
    "    - P: Storage function matrix.\n",
    "    - Phi: Supply rate function matrix.\n",
    "    \"\"\"\n",
    "    # Get matrix dimensions\n",
    "    n_samples = Z.shape[1] - 1  # Number of state transitions\n",
    "\n",
    "    print(\"n_samples: \", n_samples)\n",
    "\n",
    "    # Extract Xi0 and Xi1 from Hankel matrix\n",
    "    Xi0 = H[:, :-1]  # All but last column\n",
    "    Xi1 = H[:, 1:]   # All but first column\n",
    "\n",
    "    print(\"Shape Xi0: \", Xi0.shape)\n",
    "    print(\"Shape Xi1: \", Xi1.shape)\n",
    "\n",
    "    print(\"Shape Z: \", Z.shape)\n",
    "\n",
    "    # Define optimization variables\n",
    "    P = cp.Variable((H.shape[0], H.shape[0]), symmetric=True)\n",
    "    Phi = cp.Variable((Z.shape[0], Z.shape[0]), symmetric=True)\n",
    "\n",
    "    # Define LMI constraint: Xi1^T P Xi1 - Xi0^T P Xi0 - Z^T Phi Z <= 0\n",
    "    LMI_constraints = []\n",
    "    for i in range(n_samples):\n",
    "        Xi1_i = Xi1[:, i].reshape(-1, 1)\n",
    "        Xi0_i = Xi0[:, i].reshape(-1, 1)\n",
    "        Z_i = Z[:, i].reshape(-1, 1)\n",
    "        \n",
    "        LMI_constraints.append(\n",
    "            Xi1_i.T @ P @ Xi1_i - Xi0_i.T @ P @ Xi0_i - Z_i.T @ Phi @ Z_i << 0\n",
    "        )\n",
    "\n",
    "    # Ensure P is positive semi-definite\n",
    "    LMI_constraints.append(P >> 0)\n",
    "    # LMI_constraints.append(Phi >> 0)\n",
    "\n",
    "    # Define the optimization problem\n",
    "    problem = cp.Problem(cp.Minimize(0), LMI_constraints)\n",
    "\n",
    "    # Solve the LMI problem\n",
    "    problem.solve(solver=cp.MOSEK, verbose=True)\n",
    "\n",
    "    if problem.status in [\"infeasible\", \"unbounded\"]:\n",
    "        raise ValueError(\"LMI problem is infeasible. Check your data!\")\n",
    "\n",
    "    return P.value, Phi.value\n"
   ]
  },
  {
   "cell_type": "code",
   "execution_count": null,
   "metadata": {},
   "outputs": [
    {
     "name": "stdout",
     "output_type": "stream",
     "text": [
      "n_samples:  28508\n",
      "Shape Xi0:  (50, 28937)\n",
      "Shape Xi1:  (50, 28937)\n",
      "Shape Z:  (50, 28509)\n",
      "===============================================================================\n",
      "                                     CVXPY                                     \n",
      "                             v1.6.1.dev0+0.1777eb0                             \n",
      "===============================================================================\n",
      "(CVXPY) Feb 22 12:49:38 AM: Your problem has 5000 variables, 31008 constraints, and 0 parameters.\n",
      "(CVXPY) Feb 22 12:49:42 AM: It is compliant with the following grammars: DCP, DQCP\n",
      "(CVXPY) Feb 22 12:49:42 AM: (If you need to solve this problem multiple times, but with different data, consider using parameters.)\n",
      "(CVXPY) Feb 22 12:49:42 AM: CVXPY will first compile your problem; then, it will invoke a numerical solver to obtain a solution.\n",
      "(CVXPY) Feb 22 12:49:42 AM: Your problem is compiled with the CPP canonicalization backend.\n",
      "-------------------------------------------------------------------------------\n",
      "                                  Compilation                                  \n",
      "-------------------------------------------------------------------------------\n",
      "(CVXPY) Feb 22 12:49:49 AM: Compiling problem (target solver=MOSEK).\n",
      "(CVXPY) Feb 22 12:49:49 AM: Reduction chain: Dcp2Cone -> CvxAttr2Constr -> ConeMatrixStuffing -> MOSEK\n",
      "(CVXPY) Feb 22 12:49:49 AM: Applying reduction Dcp2Cone\n",
      "(CVXPY) Feb 22 12:49:55 AM: Applying reduction CvxAttr2Constr\n",
      "(CVXPY) Feb 22 12:50:00 AM: Applying reduction ConeMatrixStuffing\n",
      "(CVXPY) Feb 22 03:32:40 AM: Applying reduction MOSEK\n"
     ]
    }
   ],
   "source": [
    "P, Phi = find_P_and_Phi(H_mosaic, Z_matrix)\n",
    "print(P)\n",
    "print(Phi)\n",
    "\n",
    "save_matrices(P, Phi, filename=\"matrices.npz\")"
   ]
  },
  {
   "cell_type": "code",
   "execution_count": null,
   "metadata": {},
   "outputs": [],
   "source": [
    "def load_matrices(filename=\"matrices.npz\"):\n",
    "    \"\"\"\n",
    "    Loads P and Phi matrices from a .npz file.\n",
    "\n",
    "    Parameters:\n",
    "    - filename: The filename to load (default: \"matrices.npz\").\n",
    "\n",
    "    Returns:\n",
    "    - P: Loaded storage function matrix.\n",
    "    - Phi: Loaded supply rate function matrix.\n",
    "    \"\"\"\n",
    "    data = np.load(filename)\n",
    "    P = data[\"P\"]\n",
    "    Phi = data[\"Phi\"]\n",
    "    print(f\"Loaded matrices from {filename}\")\n",
    "    return P, Phi"
   ]
  },
  {
   "cell_type": "code",
   "execution_count": null,
   "metadata": {},
   "outputs": [],
   "source": [
    "P, Phi = load_matrices(filename=\"matrices.npz\")"
   ]
  },
  {
   "cell_type": "code",
   "execution_count": null,
   "metadata": {},
   "outputs": [],
   "source": [
    "def dissipativity_inequality(P, Phi, xi0, xi1, Z):\n",
    "    \"\"\"\n",
    "    Computes the dissipativity inequality for fault detection.\n",
    "\n",
    "    Parameters:\n",
    "    - P: Storage function matrix.\n",
    "    - Phi: Supply rate function matrix.\n",
    "    - xi0: Column vector for xi(k).\n",
    "    - xi1: Column vector for xi(k+1).\n",
    "    - Z: Column vector for Z(k).\n",
    "\n",
    "    Returns:\n",
    "    - True if the dissipativity inequality is satisfied, False otherwise.\n",
    "    \"\"\"\n",
    "    # Compute the left-hand side of the inequality\n",
    "    lhs = xi1.T @ P @ xi1 - xi0.T @ P @ xi0\n",
    "\n",
    "    # Compute the right-hand side of the inequality\n",
    "    rhs = Z.T @ Z\n",
    "\n",
    "    # Check if the inequality is satisfied\n",
    "    return lhs - rhs"
   ]
  },
  {
   "cell_type": "code",
   "execution_count": null,
   "metadata": {},
   "outputs": [],
   "source": [
    "TF = 5 # window of samples observed for detecting faults"
   ]
  },
  {
   "cell_type": "code",
   "execution_count": null,
   "metadata": {},
   "outputs": [],
   "source": [
    "xi_list = []\n",
    "zeta_list = []\n",
    "Y_array = []\n",
    "J_array = []\n",
    "Y_square_array = []\n",
    "\n",
    "for data in interpolated_datasets:\n",
    "    for k in range (L, T - N):\n",
    "        k -= 1\n",
    "        past_outputs = np.column_stack([data[\"trolley_position\"][k-L:k], data[\"cable_length\"][k-L:k], data[\"sway_angle\"][k-L:k]])\n",
    "        past_inputs = np.column_stack([data[\"trolley_motor_pwm\"][k-L:k], data[\"hoist_motor_pwm\"][k-L:k]])\n",
    "\n",
    "        xi = np.column_stack([past_outputs, past_inputs]).reshape(-1, 1)\n",
    "        xi_list.append(xi)\n",
    "\n",
    "        future_outputs = np.column_stack([data[\"trolley_position\"][k:k+N], data[\"cable_length\"][k:k+N], data[\"sway_angle\"][k:k+N]])\n",
    "        future_inputs = np.column_stack([data[\"trolley_motor_pwm\"][k:k+N], data[\"hoist_motor_pwm\"][k:k+N]])\n",
    "\n",
    "        zeta = np.column_stack([future_outputs, future_inputs]).reshape(-1, 1)\n",
    "        zeta_list.append(zeta)\n",
    "\n",
    "        if k > L:\n",
    "            Y = dissipativity_inequality(P, Phi, xi_list[k-L], xi_list[k-L+1], zeta_list[k-L])\n",
    "            Y_array.append(Y)\n",
    "            Y_square_array.append(Y_array[k-L-1]**2)\n",
    "\n",
    "            if len(Y_square_array) > TF:\n",
    "                J_array.append(np.sqrt(np.sum(Y_square_array[k-TF-L:k-L])))\n"
   ]
  },
  {
   "cell_type": "code",
   "execution_count": null,
   "metadata": {},
   "outputs": [],
   "source": [
    "# Calculate the mean of the fault detection metric\n",
    "J_mean = np.mean(J_array)\n",
    "print(f\"Mean of the fault detection metric: {J_mean}\")\n",
    "\n",
    "# Calculate the standard deviation of the fault detection metric\n",
    "J_std = np.std(J_array)\n",
    "print(f\"Standard deviation of the fault detection metric: {J_std}\")\n",
    "\n",
    "# Determine the threshold for fault detection\n",
    "threshold = J_mean + 3 * J_std\n",
    "print(f\"Threshold for fault detection: {threshold}\")"
   ]
  },
  {
   "cell_type": "code",
   "execution_count": null,
   "metadata": {},
   "outputs": [],
   "source": [
    "plt.plot(np.linspace(0, DURATION + DT, len(Y_array)), np.array(Y_array).flatten())"
   ]
  },
  {
   "cell_type": "code",
   "execution_count": null,
   "metadata": {},
   "outputs": [],
   "source": [
    "plt.plot(np.linspace(0, DURATION + DT, len(Y_square_array)), np.array(Y_square_array).flatten())"
   ]
  },
  {
   "cell_type": "code",
   "execution_count": null,
   "metadata": {},
   "outputs": [],
   "source": [
    "for data in interpolated_datasets:\n",
    "    xi_list = []\n",
    "    zeta_list = []\n",
    "    Y_array = []\n",
    "    J_array = []\n",
    "    Y_square_array = []\n",
    "\n",
    "    for k in range (L, T - N):\n",
    "        k -= 1\n",
    "        past_outputs = np.column_stack([data[\"trolley_position\"][k-L:k], data[\"cable_length\"][k-L:k], data[\"sway_angle\"][k-L:k]])\n",
    "        past_inputs = np.column_stack([data[\"trolley_motor_pwm\"][k-L:k], data[\"hoist_motor_pwm\"][k-L:k]])\n",
    "\n",
    "        xi = np.column_stack([past_outputs, past_inputs]).reshape(-1, 1)\n",
    "        xi_list.append(xi)\n",
    "\n",
    "        future_outputs = np.column_stack([data[\"trolley_position\"][k:k+N], data[\"cable_length\"][k:k+N], data[\"sway_angle\"][k:k+N]])\n",
    "        future_inputs = np.column_stack([data[\"trolley_motor_pwm\"][k:k+N], data[\"hoist_motor_pwm\"][k:k+N]])\n",
    "\n",
    "        zeta = np.column_stack([future_outputs, future_inputs]).reshape(-1, 1)\n",
    "        zeta_list.append(zeta)\n",
    "\n",
    "        if k > L:\n",
    "            Y = dissipativity_inequality(P, Phi, xi_list[k-L], xi_list[k-L+1], zeta_list[k-L])\n",
    "            Y_array.append(Y)\n",
    "            Y_square_array.append(Y_array[k-L-1]**2)\n",
    "\n",
    "            if len(Y_square_array) > TF:\n",
    "                J_array.append(np.sqrt(np.sum(Y_square_array[k-TF-L:k-L])))\n",
    "\n",
    "    plt.plot(np.linspace(0, DURATION + DT, len(J_array)), np.array(J_array).flatten())\n",
    "    plt.plot(np.linspace(0, DURATION + DT, len(J_array)), np.linspace(threshold, threshold, len(J_array)))\n",
    "    plt.plot(np.linspace(0, DURATION + DT, len(J_array)), np.linspace(J_mean, J_mean, len(J_array)))\n",
    "    plt.show()\n"
   ]
  },
  {
   "cell_type": "code",
   "execution_count": null,
   "metadata": {},
   "outputs": [],
   "source": [
    "plt.plot(np.linspace(0, DURATION + DT, len(Y_array)), np.array(Y_array).flatten())"
   ]
  },
  {
   "cell_type": "code",
   "execution_count": null,
   "metadata": {},
   "outputs": [],
   "source": [
    "plt.plot(np.linspace(0, DURATION + DT, len(Y_square_array)), np.array(Y_square_array).flatten())"
   ]
  }
 ],
 "metadata": {
  "kernelspec": {
   "display_name": "usr",
   "language": "python",
   "name": "python3"
  },
  "language_info": {
   "codemirror_mode": {
    "name": "ipython",
    "version": 3
   },
   "file_extension": ".py",
   "mimetype": "text/x-python",
   "name": "python",
   "nbconvert_exporter": "python",
   "pygments_lexer": "ipython3",
   "version": "3.10.12"
  }
 },
 "nbformat": 4,
 "nbformat_minor": 2
}
